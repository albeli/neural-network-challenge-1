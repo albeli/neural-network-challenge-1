{
  "cells": [
    {
      "cell_type": "markdown",
      "metadata": {
        "id": "T7ZNhGcW6q6r"
      },
      "source": [
        "# Student Loan Risk with Deep Learning"
      ]
    },
    {
      "cell_type": "code",
      "execution_count": 1,
      "metadata": {
        "id": "0otrXpJc6q6u"
      },
      "outputs": [],
      "source": [
        "# Imports\n",
        "import pandas as pd\n",
        "import tensorflow as tf\n",
        "from tensorflow.keras.layers import Dense\n",
        "from tensorflow.keras.models import Sequential\n",
        "from sklearn.model_selection import train_test_split\n",
        "from sklearn.preprocessing import StandardScaler\n",
        "from sklearn.metrics import classification_report\n",
        "from pathlib import Path"
      ]
    },
    {
      "cell_type": "markdown",
      "metadata": {
        "id": "OpV4Y-3Z6q6w"
      },
      "source": [
        "---\n",
        "\n",
        "## Prepare the data to be used on a neural network model"
      ]
    },
    {
      "cell_type": "markdown",
      "metadata": {
        "id": "TUuSzp2l6q6w"
      },
      "source": [
        "### Step 1: Read the `student-loans.csv` file into a Pandas DataFrame. Review the DataFrame, looking for columns that could eventually define your features and target variables.   "
      ]
    },
    {
      "cell_type": "code",
      "execution_count": 2,
      "metadata": {
        "colab": {
          "base_uri": "https://localhost:8080/",
          "height": 226
        },
        "id": "G65km1KD6q6x",
        "outputId": "93d12d8d-c415-4017-8452-5b4966e4dde5"
      },
      "outputs": [
        {
          "data": {
            "text/html": [
              "<div>\n",
              "<style scoped>\n",
              "    .dataframe tbody tr th:only-of-type {\n",
              "        vertical-align: middle;\n",
              "    }\n",
              "\n",
              "    .dataframe tbody tr th {\n",
              "        vertical-align: top;\n",
              "    }\n",
              "\n",
              "    .dataframe thead th {\n",
              "        text-align: right;\n",
              "    }\n",
              "</style>\n",
              "<table border=\"1\" class=\"dataframe\">\n",
              "  <thead>\n",
              "    <tr style=\"text-align: right;\">\n",
              "      <th></th>\n",
              "      <th>payment_history</th>\n",
              "      <th>location_parameter</th>\n",
              "      <th>stem_degree_score</th>\n",
              "      <th>gpa_ranking</th>\n",
              "      <th>alumni_success</th>\n",
              "      <th>study_major_code</th>\n",
              "      <th>time_to_completion</th>\n",
              "      <th>finance_workshop_score</th>\n",
              "      <th>cohort_ranking</th>\n",
              "      <th>total_loan_score</th>\n",
              "      <th>financial_aid_score</th>\n",
              "      <th>credit_ranking</th>\n",
              "    </tr>\n",
              "  </thead>\n",
              "  <tbody>\n",
              "    <tr>\n",
              "      <th>0</th>\n",
              "      <td>7.4</td>\n",
              "      <td>0.70</td>\n",
              "      <td>0.00</td>\n",
              "      <td>1.9</td>\n",
              "      <td>0.076</td>\n",
              "      <td>11.0</td>\n",
              "      <td>34.0</td>\n",
              "      <td>0.9978</td>\n",
              "      <td>3.51</td>\n",
              "      <td>0.56</td>\n",
              "      <td>9.4</td>\n",
              "      <td>0</td>\n",
              "    </tr>\n",
              "    <tr>\n",
              "      <th>1</th>\n",
              "      <td>7.8</td>\n",
              "      <td>0.88</td>\n",
              "      <td>0.00</td>\n",
              "      <td>2.6</td>\n",
              "      <td>0.098</td>\n",
              "      <td>25.0</td>\n",
              "      <td>67.0</td>\n",
              "      <td>0.9968</td>\n",
              "      <td>3.20</td>\n",
              "      <td>0.68</td>\n",
              "      <td>9.8</td>\n",
              "      <td>0</td>\n",
              "    </tr>\n",
              "    <tr>\n",
              "      <th>2</th>\n",
              "      <td>7.8</td>\n",
              "      <td>0.76</td>\n",
              "      <td>0.04</td>\n",
              "      <td>2.3</td>\n",
              "      <td>0.092</td>\n",
              "      <td>15.0</td>\n",
              "      <td>54.0</td>\n",
              "      <td>0.9970</td>\n",
              "      <td>3.26</td>\n",
              "      <td>0.65</td>\n",
              "      <td>9.8</td>\n",
              "      <td>0</td>\n",
              "    </tr>\n",
              "    <tr>\n",
              "      <th>3</th>\n",
              "      <td>11.2</td>\n",
              "      <td>0.28</td>\n",
              "      <td>0.56</td>\n",
              "      <td>1.9</td>\n",
              "      <td>0.075</td>\n",
              "      <td>17.0</td>\n",
              "      <td>60.0</td>\n",
              "      <td>0.9980</td>\n",
              "      <td>3.16</td>\n",
              "      <td>0.58</td>\n",
              "      <td>9.8</td>\n",
              "      <td>1</td>\n",
              "    </tr>\n",
              "    <tr>\n",
              "      <th>4</th>\n",
              "      <td>7.4</td>\n",
              "      <td>0.70</td>\n",
              "      <td>0.00</td>\n",
              "      <td>1.9</td>\n",
              "      <td>0.076</td>\n",
              "      <td>11.0</td>\n",
              "      <td>34.0</td>\n",
              "      <td>0.9978</td>\n",
              "      <td>3.51</td>\n",
              "      <td>0.56</td>\n",
              "      <td>9.4</td>\n",
              "      <td>0</td>\n",
              "    </tr>\n",
              "  </tbody>\n",
              "</table>\n",
              "</div>"
            ],
            "text/plain": [
              "   payment_history  location_parameter  stem_degree_score  gpa_ranking  \\\n",
              "0              7.4                0.70               0.00          1.9   \n",
              "1              7.8                0.88               0.00          2.6   \n",
              "2              7.8                0.76               0.04          2.3   \n",
              "3             11.2                0.28               0.56          1.9   \n",
              "4              7.4                0.70               0.00          1.9   \n",
              "\n",
              "   alumni_success  study_major_code  time_to_completion  \\\n",
              "0           0.076              11.0                34.0   \n",
              "1           0.098              25.0                67.0   \n",
              "2           0.092              15.0                54.0   \n",
              "3           0.075              17.0                60.0   \n",
              "4           0.076              11.0                34.0   \n",
              "\n",
              "   finance_workshop_score  cohort_ranking  total_loan_score  \\\n",
              "0                  0.9978            3.51              0.56   \n",
              "1                  0.9968            3.20              0.68   \n",
              "2                  0.9970            3.26              0.65   \n",
              "3                  0.9980            3.16              0.58   \n",
              "4                  0.9978            3.51              0.56   \n",
              "\n",
              "   financial_aid_score  credit_ranking  \n",
              "0                  9.4               0  \n",
              "1                  9.8               0  \n",
              "2                  9.8               0  \n",
              "3                  9.8               1  \n",
              "4                  9.4               0  "
            ]
          },
          "execution_count": 2,
          "metadata": {},
          "output_type": "execute_result"
        }
      ],
      "source": [
        "# Read the csv into a Pandas DataFrame\n",
        "file_path = \"https://static.bc-edx.com/ai/ail-v-1-0/m18/lms/datasets/student-loans.csv\"\n",
        "loans_df = pd.read_csv(file_path)\n",
        "\n",
        "# Review the DataFrame\n",
        "loans_df.head()"
      ]
    },
    {
      "cell_type": "code",
      "execution_count": 3,
      "metadata": {
        "colab": {
          "base_uri": "https://localhost:8080/"
        },
        "id": "K8ZYB8wx6q6x",
        "outputId": "b509fc34-4488-406e-e451-2069fec37371"
      },
      "outputs": [
        {
          "data": {
            "text/plain": [
              "payment_history           float64\n",
              "location_parameter        float64\n",
              "stem_degree_score         float64\n",
              "gpa_ranking               float64\n",
              "alumni_success            float64\n",
              "study_major_code          float64\n",
              "time_to_completion        float64\n",
              "finance_workshop_score    float64\n",
              "cohort_ranking            float64\n",
              "total_loan_score          float64\n",
              "financial_aid_score       float64\n",
              "credit_ranking              int64\n",
              "dtype: object"
            ]
          },
          "execution_count": 3,
          "metadata": {},
          "output_type": "execute_result"
        }
      ],
      "source": [
        "# Review the data types associated with the columns\n",
        "loans_df.dtypes"
      ]
    },
    {
      "cell_type": "code",
      "execution_count": 4,
      "metadata": {
        "colab": {
          "base_uri": "https://localhost:8080/"
        },
        "id": "9P8aX-dW75JO",
        "outputId": "63251fa8-5ac1-4112-c2f7-bc5d97ea8491"
      },
      "outputs": [
        {
          "data": {
            "text/plain": [
              "credit_ranking\n",
              "1    855\n",
              "0    744\n",
              "Name: count, dtype: int64"
            ]
          },
          "execution_count": 4,
          "metadata": {},
          "output_type": "execute_result"
        }
      ],
      "source": [
        "# Check the credit_ranking value counts\n",
        "loans_df[\"credit_ranking\"].value_counts()"
      ]
    },
    {
      "cell_type": "code",
      "execution_count": 5,
      "metadata": {},
      "outputs": [
        {
          "name": "stdout",
          "output_type": "stream",
          "text": [
            "<class 'pandas.core.frame.DataFrame'>\n",
            "RangeIndex: 1599 entries, 0 to 1598\n",
            "Data columns (total 12 columns):\n",
            " #   Column                  Non-Null Count  Dtype  \n",
            "---  ------                  --------------  -----  \n",
            " 0   payment_history         1599 non-null   float64\n",
            " 1   location_parameter      1599 non-null   float64\n",
            " 2   stem_degree_score       1599 non-null   float64\n",
            " 3   gpa_ranking             1599 non-null   float64\n",
            " 4   alumni_success          1599 non-null   float64\n",
            " 5   study_major_code        1599 non-null   float64\n",
            " 6   time_to_completion      1599 non-null   float64\n",
            " 7   finance_workshop_score  1599 non-null   float64\n",
            " 8   cohort_ranking          1599 non-null   float64\n",
            " 9   total_loan_score        1599 non-null   float64\n",
            " 10  financial_aid_score     1599 non-null   float64\n",
            " 11  credit_ranking          1599 non-null   int64  \n",
            "dtypes: float64(11), int64(1)\n",
            "memory usage: 150.0 KB\n"
          ]
        }
      ],
      "source": [
        "loans_df.info()"
      ]
    },
    {
      "cell_type": "markdown",
      "metadata": {
        "id": "R6vbZeDH6q6y"
      },
      "source": [
        "### Step 2: Using the preprocessed data, create the features (`X`) and target (`y`) datasets. The target dataset should be defined by the preprocessed DataFrame column “credit_ranking”. The remaining columns should define the features dataset."
      ]
    },
    {
      "cell_type": "code",
      "execution_count": 6,
      "metadata": {
        "colab": {
          "base_uri": "https://localhost:8080/"
        },
        "id": "Q5eVAP5M6q6y",
        "outputId": "89728bbf-6930-4573-a126-9f1b66ed8859"
      },
      "outputs": [
        {
          "data": {
            "text/plain": [
              "0    0\n",
              "1    0\n",
              "2    0\n",
              "3    1\n",
              "4    0\n",
              "Name: credit_ranking, dtype: int64"
            ]
          },
          "execution_count": 6,
          "metadata": {},
          "output_type": "execute_result"
        }
      ],
      "source": [
        "# Define the target set y using the credit_ranking column\n",
        "y = loans_df[\"credit_ranking\"]\n",
        "\n",
        "# Display a sample of y\n",
        "y[:5]"
      ]
    },
    {
      "cell_type": "code",
      "execution_count": 7,
      "metadata": {
        "colab": {
          "base_uri": "https://localhost:8080/",
          "height": 226
        },
        "id": "IIkrD2Sn6q6z",
        "outputId": "ce07c4a3-fb81-4657-d11e-ec85ae8554c9"
      },
      "outputs": [
        {
          "data": {
            "text/html": [
              "<div>\n",
              "<style scoped>\n",
              "    .dataframe tbody tr th:only-of-type {\n",
              "        vertical-align: middle;\n",
              "    }\n",
              "\n",
              "    .dataframe tbody tr th {\n",
              "        vertical-align: top;\n",
              "    }\n",
              "\n",
              "    .dataframe thead th {\n",
              "        text-align: right;\n",
              "    }\n",
              "</style>\n",
              "<table border=\"1\" class=\"dataframe\">\n",
              "  <thead>\n",
              "    <tr style=\"text-align: right;\">\n",
              "      <th></th>\n",
              "      <th>payment_history</th>\n",
              "      <th>location_parameter</th>\n",
              "      <th>stem_degree_score</th>\n",
              "      <th>gpa_ranking</th>\n",
              "      <th>alumni_success</th>\n",
              "      <th>study_major_code</th>\n",
              "      <th>time_to_completion</th>\n",
              "      <th>finance_workshop_score</th>\n",
              "      <th>cohort_ranking</th>\n",
              "      <th>total_loan_score</th>\n",
              "      <th>financial_aid_score</th>\n",
              "    </tr>\n",
              "  </thead>\n",
              "  <tbody>\n",
              "    <tr>\n",
              "      <th>0</th>\n",
              "      <td>7.4</td>\n",
              "      <td>0.70</td>\n",
              "      <td>0.00</td>\n",
              "      <td>1.9</td>\n",
              "      <td>0.076</td>\n",
              "      <td>11.0</td>\n",
              "      <td>34.0</td>\n",
              "      <td>0.9978</td>\n",
              "      <td>3.51</td>\n",
              "      <td>0.56</td>\n",
              "      <td>9.4</td>\n",
              "    </tr>\n",
              "    <tr>\n",
              "      <th>1</th>\n",
              "      <td>7.8</td>\n",
              "      <td>0.88</td>\n",
              "      <td>0.00</td>\n",
              "      <td>2.6</td>\n",
              "      <td>0.098</td>\n",
              "      <td>25.0</td>\n",
              "      <td>67.0</td>\n",
              "      <td>0.9968</td>\n",
              "      <td>3.20</td>\n",
              "      <td>0.68</td>\n",
              "      <td>9.8</td>\n",
              "    </tr>\n",
              "    <tr>\n",
              "      <th>2</th>\n",
              "      <td>7.8</td>\n",
              "      <td>0.76</td>\n",
              "      <td>0.04</td>\n",
              "      <td>2.3</td>\n",
              "      <td>0.092</td>\n",
              "      <td>15.0</td>\n",
              "      <td>54.0</td>\n",
              "      <td>0.9970</td>\n",
              "      <td>3.26</td>\n",
              "      <td>0.65</td>\n",
              "      <td>9.8</td>\n",
              "    </tr>\n",
              "    <tr>\n",
              "      <th>3</th>\n",
              "      <td>11.2</td>\n",
              "      <td>0.28</td>\n",
              "      <td>0.56</td>\n",
              "      <td>1.9</td>\n",
              "      <td>0.075</td>\n",
              "      <td>17.0</td>\n",
              "      <td>60.0</td>\n",
              "      <td>0.9980</td>\n",
              "      <td>3.16</td>\n",
              "      <td>0.58</td>\n",
              "      <td>9.8</td>\n",
              "    </tr>\n",
              "    <tr>\n",
              "      <th>4</th>\n",
              "      <td>7.4</td>\n",
              "      <td>0.70</td>\n",
              "      <td>0.00</td>\n",
              "      <td>1.9</td>\n",
              "      <td>0.076</td>\n",
              "      <td>11.0</td>\n",
              "      <td>34.0</td>\n",
              "      <td>0.9978</td>\n",
              "      <td>3.51</td>\n",
              "      <td>0.56</td>\n",
              "      <td>9.4</td>\n",
              "    </tr>\n",
              "  </tbody>\n",
              "</table>\n",
              "</div>"
            ],
            "text/plain": [
              "   payment_history  location_parameter  stem_degree_score  gpa_ranking  \\\n",
              "0              7.4                0.70               0.00          1.9   \n",
              "1              7.8                0.88               0.00          2.6   \n",
              "2              7.8                0.76               0.04          2.3   \n",
              "3             11.2                0.28               0.56          1.9   \n",
              "4              7.4                0.70               0.00          1.9   \n",
              "\n",
              "   alumni_success  study_major_code  time_to_completion  \\\n",
              "0           0.076              11.0                34.0   \n",
              "1           0.098              25.0                67.0   \n",
              "2           0.092              15.0                54.0   \n",
              "3           0.075              17.0                60.0   \n",
              "4           0.076              11.0                34.0   \n",
              "\n",
              "   finance_workshop_score  cohort_ranking  total_loan_score  \\\n",
              "0                  0.9978            3.51              0.56   \n",
              "1                  0.9968            3.20              0.68   \n",
              "2                  0.9970            3.26              0.65   \n",
              "3                  0.9980            3.16              0.58   \n",
              "4                  0.9978            3.51              0.56   \n",
              "\n",
              "   financial_aid_score  \n",
              "0                  9.4  \n",
              "1                  9.8  \n",
              "2                  9.8  \n",
              "3                  9.8  \n",
              "4                  9.4  "
            ]
          },
          "execution_count": 7,
          "metadata": {},
          "output_type": "execute_result"
        }
      ],
      "source": [
        "# Define features set X by selecting all columns but credit_ranking\n",
        "X = loans_df.drop('credit_ranking', axis=1)\n",
        "\n",
        "# Review the features DataFrame\n",
        "X.head()\n"
      ]
    },
    {
      "cell_type": "markdown",
      "metadata": {
        "id": "QmM9c-tj6q6z"
      },
      "source": [
        "### Step 3: Split the features and target sets into training and testing datasets.\n"
      ]
    },
    {
      "cell_type": "code",
      "execution_count": 8,
      "metadata": {
        "id": "OD7xwU_96q6z"
      },
      "outputs": [
        {
          "name": "stdout",
          "output_type": "stream",
          "text": [
            "Training set size: (1199, 11) (1199,)\n",
            "Testing set size: (400, 11) (400,)\n"
          ]
        }
      ],
      "source": [
        "# Split the preprocessed data into a training and testing dataset\n",
        "# Assign the function a random_state equal to 1\n",
        "X_train, X_test, y_train, y_test = train_test_split(X, y, test_size=0.25, random_state=1)\n",
        "\n",
        "# Display the sizes of the training and testing datasets\n",
        "print(\"Training set size:\", X_train.shape, y_train.shape)\n",
        "print(\"Testing set size:\", X_test.shape, y_test.shape)\n",
        "\n"
      ]
    },
    {
      "cell_type": "markdown",
      "metadata": {
        "id": "G9i6DHY06q6z"
      },
      "source": [
        "### Step 4: Use scikit-learn's `StandardScaler` to scale the features data."
      ]
    },
    {
      "cell_type": "code",
      "execution_count": 9,
      "metadata": {
        "id": "BzD3z20m6q6z"
      },
      "outputs": [],
      "source": [
        "# Create a StandardScaler instance\n",
        "scaler = StandardScaler()\n",
        "\n",
        "# Fit the scaler to the features training dataset and transform it\n",
        "X_train_scaled = scaler.fit_transform(X_train)\n",
        "\n",
        "# Transform the features testing dataset using the same scaler\n",
        "X_test_scaled = scaler.transform(X_test)"
      ]
    },
    {
      "cell_type": "markdown",
      "metadata": {
        "id": "CZzVDjba6q6z"
      },
      "source": [
        "---\n",
        "\n",
        "## Compile and Evaluate a Model Using a Neural Network"
      ]
    },
    {
      "cell_type": "markdown",
      "metadata": {
        "id": "m-pSux4Q6q60"
      },
      "source": [
        "### Step 1: Create a deep neural network by assigning the number of input features, the number of layers, and the number of neurons on each layer using Tensorflow’s Keras.\n",
        "\n",
        "> **Hint** You can start with a two-layer deep neural network model that uses the `relu` activation function for both layers.\n"
      ]
    },
    {
      "cell_type": "code",
      "execution_count": 10,
      "metadata": {
        "colab": {
          "base_uri": "https://localhost:8080/"
        },
        "id": "t5C94FCd6q60",
        "outputId": "cbf05783-2f56-4745-cd33-649a6152e510"
      },
      "outputs": [
        {
          "name": "stdout",
          "output_type": "stream",
          "text": [
            "Number of input features: 11\n"
          ]
        }
      ],
      "source": [
        "# Define the number of inputs (features) to the model\n",
        "input_features = X_train_scaled.shape[1]\n",
        "\n",
        "# Review the number of features\n",
        "print(\"Number of input features:\", input_features)"
      ]
    },
    {
      "cell_type": "code",
      "execution_count": 11,
      "metadata": {
        "id": "c_KXDLkF6q60"
      },
      "outputs": [],
      "source": [
        "# Define the number of hidden nodes for the first hidden layer\n",
        "hidden_nodes_layer1 = 64  \n",
        "\n",
        "# Define the number of hidden nodes for the second hidden layer\n",
        "hidden_nodes_layer2 = 32  \n",
        "\n",
        "# Define the number of neurons in the output layer\n",
        "output_neurons = 1  \n",
        "\n"
      ]
    },
    {
      "cell_type": "code",
      "execution_count": 12,
      "metadata": {
        "id": "63UdFncw6q60"
      },
      "outputs": [],
      "source": [
        "\n",
        "# Create the Sequential model instance\n",
        "model = Sequential()\n",
        "\n",
        "# Add the first hidden layer with relu activation function\n",
        "model.add(Dense(hidden_nodes_layer1, activation='relu', input_shape=(input_features,)))\n",
        "\n",
        "# Add the second hidden layer with relu activation function\n",
        "model.add(Dense(hidden_nodes_layer2, activation='relu'))\n",
        "\n",
        "# Add the output layer to the model specifying the number of output neurons and activation function\n",
        "# Use 'sigmoid' activation for binary classification\n",
        "model.add(Dense(output_neurons, activation='sigmoid'))\n",
        "\n",
        "\n"
      ]
    },
    {
      "cell_type": "code",
      "execution_count": 13,
      "metadata": {
        "colab": {
          "base_uri": "https://localhost:8080/"
        },
        "id": "-Beoh4f_6q61",
        "outputId": "2e50f810-086b-4d89-bf7d-98afbe0d649d"
      },
      "outputs": [
        {
          "name": "stdout",
          "output_type": "stream",
          "text": [
            "Model: \"sequential\"\n",
            "_________________________________________________________________\n",
            " Layer (type)                Output Shape              Param #   \n",
            "=================================================================\n",
            " dense (Dense)               (None, 64)                768       \n",
            "                                                                 \n",
            " dense_1 (Dense)             (None, 32)                2080      \n",
            "                                                                 \n",
            " dense_2 (Dense)             (None, 1)                 33        \n",
            "                                                                 \n",
            "=================================================================\n",
            "Total params: 2,881\n",
            "Trainable params: 2,881\n",
            "Non-trainable params: 0\n",
            "_________________________________________________________________\n"
          ]
        }
      ],
      "source": [
        "# Display the Sequential model summary\n",
        "model.summary()\n"
      ]
    },
    {
      "cell_type": "markdown",
      "metadata": {
        "id": "nRqWGIRo6q61"
      },
      "source": [
        "### Step 2: Compile and fit the model using the `binary_crossentropy` loss function, the `adam` optimizer, and the `accuracy` evaluation metric.\n"
      ]
    },
    {
      "cell_type": "code",
      "execution_count": 14,
      "metadata": {
        "id": "E-hZaeSn6q61"
      },
      "outputs": [],
      "source": [
        "# Compile the Sequential model\n",
        "model.compile(optimizer='adam', loss='binary_crossentropy', metrics=['accuracy'])\n"
      ]
    },
    {
      "cell_type": "code",
      "execution_count": 15,
      "metadata": {
        "colab": {
          "base_uri": "https://localhost:8080/"
        },
        "id": "x25e8Idc6q61",
        "outputId": "e95946ba-23da-47a3-a1c1-5e9a2a484a47"
      },
      "outputs": [
        {
          "name": "stdout",
          "output_type": "stream",
          "text": [
            "Epoch 1/50\n"
          ]
        },
        {
          "name": "stdout",
          "output_type": "stream",
          "text": [
            "30/30 [==============================] - 1s 6ms/step - loss: 0.6226 - accuracy: 0.6423 - val_loss: 0.5671 - val_accuracy: 0.7333\n",
            "Epoch 2/50\n",
            "30/30 [==============================] - 0s 2ms/step - loss: 0.5438 - accuracy: 0.7216 - val_loss: 0.5344 - val_accuracy: 0.7375\n",
            "Epoch 3/50\n",
            "30/30 [==============================] - 0s 2ms/step - loss: 0.5128 - accuracy: 0.7393 - val_loss: 0.5248 - val_accuracy: 0.7500\n",
            "Epoch 4/50\n",
            "30/30 [==============================] - 0s 2ms/step - loss: 0.5001 - accuracy: 0.7497 - val_loss: 0.5201 - val_accuracy: 0.7542\n",
            "Epoch 5/50\n",
            "30/30 [==============================] - 0s 2ms/step - loss: 0.4869 - accuracy: 0.7664 - val_loss: 0.5237 - val_accuracy: 0.7583\n",
            "Epoch 6/50\n",
            "30/30 [==============================] - 0s 1ms/step - loss: 0.4798 - accuracy: 0.7758 - val_loss: 0.5202 - val_accuracy: 0.7500\n",
            "Epoch 7/50\n",
            "30/30 [==============================] - 0s 2ms/step - loss: 0.4726 - accuracy: 0.7831 - val_loss: 0.5206 - val_accuracy: 0.7542\n",
            "Epoch 8/50\n",
            "30/30 [==============================] - 0s 2ms/step - loss: 0.4652 - accuracy: 0.7873 - val_loss: 0.5208 - val_accuracy: 0.7708\n",
            "Epoch 9/50\n",
            "30/30 [==============================] - 0s 2ms/step - loss: 0.4600 - accuracy: 0.7914 - val_loss: 0.5235 - val_accuracy: 0.7583\n",
            "Epoch 10/50\n",
            "30/30 [==============================] - 0s 2ms/step - loss: 0.4533 - accuracy: 0.7925 - val_loss: 0.5218 - val_accuracy: 0.7500\n",
            "Epoch 11/50\n",
            "30/30 [==============================] - 0s 2ms/step - loss: 0.4491 - accuracy: 0.7894 - val_loss: 0.5276 - val_accuracy: 0.7542\n",
            "Epoch 12/50\n",
            "30/30 [==============================] - 0s 2ms/step - loss: 0.4441 - accuracy: 0.7956 - val_loss: 0.5270 - val_accuracy: 0.7667\n",
            "Epoch 13/50\n",
            "30/30 [==============================] - 0s 2ms/step - loss: 0.4423 - accuracy: 0.8008 - val_loss: 0.5266 - val_accuracy: 0.7583\n",
            "Epoch 14/50\n",
            "30/30 [==============================] - 0s 2ms/step - loss: 0.4339 - accuracy: 0.7998 - val_loss: 0.5280 - val_accuracy: 0.7542\n",
            "Epoch 15/50\n",
            "30/30 [==============================] - 0s 2ms/step - loss: 0.4308 - accuracy: 0.8029 - val_loss: 0.5290 - val_accuracy: 0.7583\n",
            "Epoch 16/50\n",
            "30/30 [==============================] - 0s 2ms/step - loss: 0.4261 - accuracy: 0.8060 - val_loss: 0.5315 - val_accuracy: 0.7667\n",
            "Epoch 17/50\n",
            "30/30 [==============================] - 0s 2ms/step - loss: 0.4253 - accuracy: 0.8123 - val_loss: 0.5371 - val_accuracy: 0.7500\n",
            "Epoch 18/50\n",
            "30/30 [==============================] - 0s 2ms/step - loss: 0.4199 - accuracy: 0.8060 - val_loss: 0.5355 - val_accuracy: 0.7542\n",
            "Epoch 19/50\n",
            "30/30 [==============================] - 0s 2ms/step - loss: 0.4131 - accuracy: 0.8175 - val_loss: 0.5344 - val_accuracy: 0.7417\n",
            "Epoch 20/50\n",
            "30/30 [==============================] - 0s 2ms/step - loss: 0.4123 - accuracy: 0.8196 - val_loss: 0.5355 - val_accuracy: 0.7542\n",
            "Epoch 21/50\n",
            "30/30 [==============================] - 0s 2ms/step - loss: 0.4055 - accuracy: 0.8196 - val_loss: 0.5381 - val_accuracy: 0.7542\n",
            "Epoch 22/50\n",
            "30/30 [==============================] - 0s 2ms/step - loss: 0.4070 - accuracy: 0.8248 - val_loss: 0.5402 - val_accuracy: 0.7417\n",
            "Epoch 23/50\n",
            "30/30 [==============================] - 0s 2ms/step - loss: 0.3996 - accuracy: 0.8165 - val_loss: 0.5407 - val_accuracy: 0.7292\n",
            "Epoch 24/50\n",
            "30/30 [==============================] - 0s 2ms/step - loss: 0.3977 - accuracy: 0.8290 - val_loss: 0.5397 - val_accuracy: 0.7500\n",
            "Epoch 25/50\n",
            "30/30 [==============================] - 0s 2ms/step - loss: 0.3941 - accuracy: 0.8217 - val_loss: 0.5428 - val_accuracy: 0.7458\n",
            "Epoch 26/50\n",
            "30/30 [==============================] - 0s 2ms/step - loss: 0.3907 - accuracy: 0.8259 - val_loss: 0.5447 - val_accuracy: 0.7417\n",
            "Epoch 27/50\n",
            "30/30 [==============================] - 0s 2ms/step - loss: 0.3867 - accuracy: 0.8290 - val_loss: 0.5449 - val_accuracy: 0.7708\n",
            "Epoch 28/50\n",
            "30/30 [==============================] - 0s 2ms/step - loss: 0.3848 - accuracy: 0.8300 - val_loss: 0.5562 - val_accuracy: 0.7458\n",
            "Epoch 29/50\n",
            "30/30 [==============================] - 0s 2ms/step - loss: 0.3819 - accuracy: 0.8311 - val_loss: 0.5460 - val_accuracy: 0.7458\n",
            "Epoch 30/50\n",
            "30/30 [==============================] - 0s 2ms/step - loss: 0.3797 - accuracy: 0.8363 - val_loss: 0.5451 - val_accuracy: 0.7417\n",
            "Epoch 31/50\n",
            "30/30 [==============================] - 0s 2ms/step - loss: 0.3734 - accuracy: 0.8405 - val_loss: 0.5499 - val_accuracy: 0.7542\n",
            "Epoch 32/50\n",
            "30/30 [==============================] - 0s 2ms/step - loss: 0.3709 - accuracy: 0.8373 - val_loss: 0.5523 - val_accuracy: 0.7333\n",
            "Epoch 33/50\n",
            "30/30 [==============================] - 0s 2ms/step - loss: 0.3684 - accuracy: 0.8394 - val_loss: 0.5514 - val_accuracy: 0.7542\n",
            "Epoch 34/50\n",
            "30/30 [==============================] - 0s 2ms/step - loss: 0.3624 - accuracy: 0.8405 - val_loss: 0.5511 - val_accuracy: 0.7542\n",
            "Epoch 35/50\n",
            "30/30 [==============================] - 0s 2ms/step - loss: 0.3583 - accuracy: 0.8457 - val_loss: 0.5527 - val_accuracy: 0.7458\n",
            "Epoch 36/50\n",
            "30/30 [==============================] - 0s 2ms/step - loss: 0.3552 - accuracy: 0.8457 - val_loss: 0.5557 - val_accuracy: 0.7542\n",
            "Epoch 37/50\n",
            "30/30 [==============================] - 0s 2ms/step - loss: 0.3533 - accuracy: 0.8478 - val_loss: 0.5547 - val_accuracy: 0.7500\n",
            "Epoch 38/50\n",
            "30/30 [==============================] - 0s 2ms/step - loss: 0.3518 - accuracy: 0.8478 - val_loss: 0.5614 - val_accuracy: 0.7458\n",
            "Epoch 39/50\n",
            "30/30 [==============================] - 0s 2ms/step - loss: 0.3464 - accuracy: 0.8509 - val_loss: 0.5550 - val_accuracy: 0.7458\n",
            "Epoch 40/50\n",
            "30/30 [==============================] - 0s 2ms/step - loss: 0.3437 - accuracy: 0.8519 - val_loss: 0.5569 - val_accuracy: 0.7583\n",
            "Epoch 41/50\n",
            "30/30 [==============================] - 0s 2ms/step - loss: 0.3471 - accuracy: 0.8519 - val_loss: 0.5637 - val_accuracy: 0.7583\n",
            "Epoch 42/50\n",
            "30/30 [==============================] - 0s 2ms/step - loss: 0.3419 - accuracy: 0.8530 - val_loss: 0.5569 - val_accuracy: 0.7542\n",
            "Epoch 43/50\n",
            "30/30 [==============================] - 0s 2ms/step - loss: 0.3417 - accuracy: 0.8582 - val_loss: 0.5644 - val_accuracy: 0.7542\n",
            "Epoch 44/50\n",
            "30/30 [==============================] - 0s 2ms/step - loss: 0.3325 - accuracy: 0.8540 - val_loss: 0.5639 - val_accuracy: 0.7458\n",
            "Epoch 45/50\n",
            "30/30 [==============================] - 0s 2ms/step - loss: 0.3302 - accuracy: 0.8655 - val_loss: 0.5735 - val_accuracy: 0.7375\n",
            "Epoch 46/50\n",
            "30/30 [==============================] - 0s 2ms/step - loss: 0.3277 - accuracy: 0.8571 - val_loss: 0.5714 - val_accuracy: 0.7542\n",
            "Epoch 47/50\n",
            "30/30 [==============================] - 0s 2ms/step - loss: 0.3262 - accuracy: 0.8624 - val_loss: 0.5661 - val_accuracy: 0.7500\n",
            "Epoch 48/50\n",
            "30/30 [==============================] - 0s 2ms/step - loss: 0.3277 - accuracy: 0.8582 - val_loss: 0.5711 - val_accuracy: 0.7417\n",
            "Epoch 49/50\n",
            "30/30 [==============================] - 0s 2ms/step - loss: 0.3197 - accuracy: 0.8728 - val_loss: 0.5692 - val_accuracy: 0.7542\n",
            "Epoch 50/50\n",
            "30/30 [==============================] - 0s 2ms/step - loss: 0.3144 - accuracy: 0.8665 - val_loss: 0.5736 - val_accuracy: 0.7500\n"
          ]
        }
      ],
      "source": [
        "# Fit the model using 50 epochs and the training data\n",
        "history = model.fit(X_train_scaled, y_train, epochs=50, validation_split=0.2)"
      ]
    },
    {
      "cell_type": "markdown",
      "metadata": {
        "id": "RfHMPZVI6q61"
      },
      "source": [
        "### Step 3: Evaluate the model using the test data to determine the model’s loss and accuracy.\n"
      ]
    },
    {
      "cell_type": "code",
      "execution_count": 16,
      "metadata": {
        "colab": {
          "base_uri": "https://localhost:8080/"
        },
        "id": "5hfVADKo6q61",
        "outputId": "7df473ad-3301-4b49-e5c3-16e1687cc1cf"
      },
      "outputs": [
        {
          "name": "stdout",
          "output_type": "stream",
          "text": [
            "13/13 [==============================] - 0s 1ms/step - loss: 0.6142 - accuracy: 0.7425\n",
            "Test loss: 0.6141863465309143\n",
            "Test accuracy: 0.7425000071525574\n"
          ]
        }
      ],
      "source": [
        "# Evaluate the model loss and accuracy metrics using the evaluate method and the test data\n",
        "loss, accuracy = model.evaluate(X_test_scaled, y_test)\n",
        "\n",
        "# Display the model loss and accuracy results\n",
        "print(\"Test loss:\", loss)\n",
        "print(\"Test accuracy:\", accuracy)"
      ]
    },
    {
      "cell_type": "markdown",
      "metadata": {
        "id": "jpAv0rXA6q61"
      },
      "source": [
        "### Step 4: Save and export your model to a keras file, and name the file `student_loans.keras`.\n"
      ]
    },
    {
      "cell_type": "code",
      "execution_count": 17,
      "metadata": {
        "id": "q0MetN0W6q61"
      },
      "outputs": [],
      "source": [
        "# Set the model's file path\n",
        "model_file_path = 'saved_models/model.h5'  \n",
        "\n",
        "# Export your model to a keras file\n",
        "model.save(model_file_path)"
      ]
    },
    {
      "cell_type": "markdown",
      "metadata": {
        "id": "R1opCDdN6q61"
      },
      "source": [
        "---\n",
        "## Predict Loan Repayment Success by Using your Neural Network Model"
      ]
    },
    {
      "cell_type": "markdown",
      "metadata": {
        "id": "TfIfpeiy6q61"
      },
      "source": [
        "### Step 1: Reload your saved model."
      ]
    },
    {
      "cell_type": "code",
      "execution_count": 18,
      "metadata": {
        "id": "OCET2mvW6q61"
      },
      "outputs": [],
      "source": [
        "from tensorflow.keras.models import load_model\n",
        "\n",
        "# Set the model's file path\n",
        "model_file_path = 'saved_models/model.h5'  # Make sure this path matches where you saved your model\n",
        "\n",
        "# Load the model to a new object\n",
        "loaded_model = load_model(model_file_path)"
      ]
    },
    {
      "cell_type": "markdown",
      "metadata": {
        "id": "rTPKooGw6q61"
      },
      "source": [
        "### Step 2: Make predictions on the testing data and save the predictions to a DataFrame."
      ]
    },
    {
      "cell_type": "code",
      "execution_count": 19,
      "metadata": {
        "colab": {
          "base_uri": "https://localhost:8080/"
        },
        "id": "Vet7qjgx6q62",
        "outputId": "0925af42-7e12-4978-8396-2a2c1580e1eb"
      },
      "outputs": [
        {
          "name": "stdout",
          "output_type": "stream",
          "text": [
            "13/13 - 0s - 79ms/epoch - 6ms/step\n",
            "[[0.11781464]\n",
            " [0.42948723]\n",
            " [0.930679  ]\n",
            " [0.8825553 ]\n",
            " [0.99527127]]\n"
          ]
        }
      ],
      "source": [
        "# Make predictions on the test data using the loaded model\n",
        "predictions = loaded_model.predict(X_test_scaled, verbose=2)\n",
        "\n",
        "# Display the first five predictions\n",
        "print(predictions[:5])\n"
      ]
    },
    {
      "cell_type": "code",
      "execution_count": 20,
      "metadata": {
        "colab": {
          "base_uri": "https://localhost:8080/",
          "height": 424
        },
        "id": "87o8exFPhjfl",
        "outputId": "da5339c5-cea7-43e4-ec22-e168ea16dfa2"
      },
      "outputs": [
        {
          "name": "stdout",
          "output_type": "stream",
          "text": [
            "13/13 [==============================] - 0s 843us/step\n",
            "     predictions\n",
            "0            0.0\n",
            "1            0.0\n",
            "2            1.0\n",
            "3            1.0\n",
            "4            1.0\n",
            "..           ...\n",
            "395          1.0\n",
            "396          0.0\n",
            "397          1.0\n",
            "398          0.0\n",
            "399          0.0\n",
            "\n",
            "[400 rows x 1 columns]\n"
          ]
        }
      ],
      "source": [
        "import pandas as pd\n",
        "\n",
        "# Assuming that 'loaded_model' is your preloaded model and 'X_test_scaled' is your scaled test dataset\n",
        "# Make predictions on the testing data, with verbosity to show progress\n",
        "raw_predictions = loaded_model.predict(X_test_scaled, verbose=1)\n",
        "\n",
        "# Convert probabilities to binary results (1 if probability is 0.5 or more, 0 otherwise)\n",
        "binary_predictions = (raw_predictions >= 0.5).astype(float)  # Using float to match your result format\n",
        "\n",
        "# Create a DataFrame from the binary predictions\n",
        "predictions_df = pd.DataFrame(binary_predictions, columns=['predictions'])\n",
        "\n",
        "# Display the DataFrame\n",
        "print(predictions_df)\n",
        "\n"
      ]
    },
    {
      "cell_type": "markdown",
      "metadata": {
        "id": "oxxLwycg6q62"
      },
      "source": [
        "### Step 4: Display a classification report with the y test data and predictions"
      ]
    },
    {
      "cell_type": "code",
      "execution_count": 21,
      "metadata": {
        "colab": {
          "base_uri": "https://localhost:8080/"
        },
        "id": "UTxYZibW6q67",
        "outputId": "f341b396-9b4c-478c-dba8-f6d904ba10e3"
      },
      "outputs": [
        {
          "name": "stdout",
          "output_type": "stream",
          "text": [
            "              precision    recall  f1-score   support\n",
            "\n",
            "           0       0.72      0.75      0.73       188\n",
            "           1       0.77      0.74      0.75       212\n",
            "\n",
            "    accuracy                           0.74       400\n",
            "   macro avg       0.74      0.74      0.74       400\n",
            "weighted avg       0.74      0.74      0.74       400\n",
            "\n"
          ]
        }
      ],
      "source": [
        "# Print the classification report with the y test data and predictions\n",
        "report = classification_report(y_test, binary_predictions)\n",
        "\n",
        "# Print the classification report\n",
        "print(report)\n"
      ]
    },
    {
      "cell_type": "markdown",
      "metadata": {
        "id": "8Aaof1tBtcp6"
      },
      "source": [
        "---\n",
        "## Discuss creating a recommendation system for student loans"
      ]
    },
    {
      "cell_type": "markdown",
      "metadata": {
        "id": "_CC8cNpNtcp6"
      },
      "source": [
        "Briefly answer the following questions in the space provided:\n",
        "\n",
        "1. Describe the data that you would need to collect to build a recommendation system to recommend student loan options for students. Explain why this data would be relevant and appropriate.\n",
        "\n",
        "2. Based on the data you chose to use in this recommendation system, would your model be using collaborative filtering, content-based filtering, or context-based filtering? Justify why the data you selected would be suitable for your choice of filtering method.\n",
        "\n",
        "3. Describe two real-world challenges that you would take into consideration while building a recommendation system for student loans. Explain why these challenges would be of concern for a student loan recommendation system."
      ]
    },
    {
      "cell_type": "markdown",
      "metadata": {
        "id": "5KqIT8kYtcp6"
      },
      "source": [
        "**1. To build a recommendation system for student loan options, it's essential to collect comprehensive data that includes students' demographic, educational background, financial information, loan preferences, and behavioral data from platform interactions. This data enables personalized loan recommendations tailored to each student's unique financial needs and circumstances, ensuring the recommendations are both practical and aligned with lenders' risk assessments.**\n",
        "\n",
        "\n",
        "**2. For recommending student loans, using **content-based filtering** is best because it looks closely at each student's personal information like their school, finances, and what they want in a loan. This way, each student gets loan suggestions that really fit their own needs, without mixing up what other students might like or need.**\n",
        "\n",
        "\n",
        "**3. Building a recommendation system for student loans requires strict attention to **data privacy and security**, because handling sensitive financial and personal information responsibly is crucial to maintaining users' trust and complying with legal standards. Additionally, addressing **bias and fairness** is vital, as the system must fairly recommend suitable loans to all students, regardless of their background, to prevent discrimination and ensure equal financial opportunities.**\n",
        "\n"
      ]
    }
  ],
  "metadata": {
    "colab": {
      "provenance": []
    },
    "kernelspec": {
      "display_name": "Python 3 (ipykernel)",
      "language": "python",
      "name": "python3"
    },
    "language_info": {
      "codemirror_mode": {
        "name": "ipython",
        "version": 3
      },
      "file_extension": ".py",
      "mimetype": "text/x-python",
      "name": "python",
      "nbconvert_exporter": "python",
      "pygments_lexer": "ipython3",
      "version": "3.11.7"
    }
  },
  "nbformat": 4,
  "nbformat_minor": 0
}
